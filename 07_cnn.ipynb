{
  "nbformat": 4,
  "nbformat_minor": 0,
  "metadata": {
    "colab": {
      "provenance": [],
      "authorship_tag": "ABX9TyMOOdbWsO2pllBP4M10CjWn",
      "include_colab_link": true
    },
    "kernelspec": {
      "name": "python3",
      "display_name": "Python 3"
    },
    "language_info": {
      "name": "python"
    }
  },
  "cells": [
    {
      "cell_type": "markdown",
      "metadata": {
        "id": "view-in-github",
        "colab_type": "text"
      },
      "source": [
        "<a href=\"https://colab.research.google.com/github/nahiim/colab/blob/main/07_cnn.ipynb\" target=\"_parent\"><img src=\"https://colab.research.google.com/assets/colab-badge.svg\" alt=\"Open In Colab\"/></a>"
      ]
    },
    {
      "cell_type": "code",
      "execution_count": 4,
      "metadata": {
        "colab": {
          "base_uri": "https://localhost:8080/"
        },
        "id": "GRtU-xoI28H0",
        "outputId": "b29abc78-0492-4465-9054-33a472264292"
      },
      "outputs": [
        {
          "output_type": "stream",
          "name": "stdout",
          "text": [
            "Epoch 1 | Loss: 147.0945\n",
            "Epoch 2 | Loss: 43.1002\n",
            "Epoch 3 | Loss: 28.9569\n",
            "Epoch 4 | Loss: 21.7810\n",
            "Epoch 5 | Loss: 16.3824\n",
            "Accuracy on test set: 99.15%\n"
          ]
        }
      ],
      "source": [
        "import torch\n",
        "import torch.nn as nn\n",
        "import torch.optim as optim\n",
        "from torchvision import datasets, transforms\n",
        "from torch.utils.data import DataLoader\n",
        "\n",
        "# Define the CNN architecture\n",
        "class CNNModel(nn.Module):\n",
        "    def __init__(self):\n",
        "        super(CNNModel, self).__init__()\n",
        "\n",
        "        # Convolutional Layer 1: (Input: 1 channel, Output: 32 channels)\n",
        "        self.conv1 = nn.Conv2d(1, 32, kernel_size=3, stride=1, padding=1)\n",
        "        # Max Pooling Layer 1: (Downsamples the feature maps)\n",
        "        self.pool1 = nn.MaxPool2d(2, 2)\n",
        "\n",
        "        # Convolutional Layer 2: (Input: 32 channels, Output: 64 channels)\n",
        "        self.conv2 = nn.Conv2d(32, 64, kernel_size=3, stride=1, padding=1)\n",
        "        # Max Pooling Layer 2\n",
        "        self.pool2 = nn.MaxPool2d(2, 2)\n",
        "\n",
        "        # Fully Connected Layer: (Input: Flattened 64 channels from the last conv layer)\n",
        "        self.fc1 = nn.Linear(64 * 7 * 7, 128)  # Flatten 7x7x64 to a vector\n",
        "        self.fc2 = nn.Linear(128, 10)  # Output layer: 10 classes for MNIST digits\n",
        "\n",
        "    def forward(self, x):\n",
        "        # Pass the input through conv1, pool1, conv2, pool2, and then fully connected layers\n",
        "        x = self.pool1(torch.relu(self.conv1(x)))  # Convolution + ReLU + Pooling\n",
        "        x = self.pool2(torch.relu(self.conv2(x)))  # Convolution + ReLU + Pooling\n",
        "        x = x.view(-1, 64 * 7 * 7)  # Flatten the output to 1D vector\n",
        "        x = torch.relu(self.fc1(x))  # Fully connected layer with ReLU\n",
        "        x = self.fc2(x)  # Output layer\n",
        "        return x\n",
        "\n",
        "# Load the MNIST dataset and apply the necessary transformations\n",
        "transform = transforms.Compose([\n",
        "    transforms.ToTensor(),  # Convert images to tensor\n",
        "    transforms.Normalize((0.5,), (0.5,))  # Normalize the data\n",
        "])\n",
        "\n",
        "train_data = datasets.MNIST(root='./data', train=True, download=True, transform=transform)\n",
        "test_data = datasets.MNIST(root='./data', train=False, download=True, transform=transform)\n",
        "\n",
        "train_loader = DataLoader(train_data, batch_size=64, shuffle=True)\n",
        "test_loader = DataLoader(test_data, batch_size=64, shuffle=False)\n",
        "\n",
        "# Initialize the model, loss function, and optimizer\n",
        "model = CNNModel()\n",
        "criterion = nn.CrossEntropyLoss()  # Loss function for multi-class classification\n",
        "optimizer = optim.Adam(model.parameters(), lr=0.001)  # Optimizer (Adam)\n",
        "\n",
        "# Training Loop\n",
        "for epoch in range(5):\n",
        "    total_loss = 0\n",
        "    for images, labels in train_loader:\n",
        "        optimizer.zero_grad()  # Clear previous gradients\n",
        "\n",
        "        outputs = model(images)  # Forward pass\n",
        "        loss = criterion(outputs, labels)  # Compute loss\n",
        "\n",
        "        loss.backward()  # Backward pass (calculate gradients)\n",
        "        optimizer.step()  # Update weights\n",
        "\n",
        "        total_loss += loss.item()  # Accumulate loss for the epoch\n",
        "\n",
        "    print(f\"Epoch {epoch+1} | Loss: {total_loss:.4f}\")\n",
        "\n",
        "# Testing the model\n",
        "correct = 0\n",
        "total = 0\n",
        "with torch.no_grad():  # No gradients needed for testing\n",
        "    for images, labels in test_loader:\n",
        "        outputs = model(images)  # Get model predictions\n",
        "        _, predicted = torch.max(outputs.data, 1)  # Get the predicted class\n",
        "        total += labels.size(0)\n",
        "        correct += (predicted == labels).sum().item()\n",
        "\n",
        "print(f\"Accuracy on test set: {100 * correct / total:.2f}%\")\n"
      ]
    }
  ]
}