{
  "nbformat": 4,
  "nbformat_minor": 0,
  "metadata": {
    "colab": {
      "provenance": [],
      "authorship_tag": "ABX9TyPF6InoAXi5e4YqxB++ftry",
      "include_colab_link": true
    },
    "kernelspec": {
      "name": "python3",
      "display_name": "Python 3"
    },
    "language_info": {
      "name": "python"
    }
  },
  "cells": [
    {
      "cell_type": "markdown",
      "metadata": {
        "id": "view-in-github",
        "colab_type": "text"
      },
      "source": [
        "<a href=\"https://colab.research.google.com/github/nahiim/colab/blob/main/05_pytorch_better.ipynb\" target=\"_parent\"><img src=\"https://colab.research.google.com/assets/colab-badge.svg\" alt=\"Open In Colab\"/></a>"
      ]
    },
    {
      "cell_type": "code",
      "execution_count": 2,
      "metadata": {
        "colab": {
          "base_uri": "https://localhost:8080/"
        },
        "id": "GRtU-xoI28H0",
        "outputId": "c44b83d3-a543-42cc-84c5-60d47f15375b"
      },
      "outputs": [
        {
          "output_type": "stream",
          "name": "stdout",
          "text": [
            "Epoch 0 | Loss: 0.7465\n",
            "Epoch 500 | Loss: 0.0037\n",
            "Epoch 1000 | Loss: 0.0010\n",
            "Epoch 1500 | Loss: 0.0004\n",
            "Epoch 2000 | Loss: 0.0003\n",
            "Epoch 2500 | Loss: 0.0002\n",
            "Epoch 3000 | Loss: 0.0001\n",
            "Epoch 3500 | Loss: 0.0001\n",
            "Epoch 4000 | Loss: 0.0001\n",
            "Epoch 4500 | Loss: 0.0000\n",
            "\n",
            "Predictions:\n",
            "tensor([[0.],\n",
            "        [1.],\n",
            "        [1.],\n",
            "        [0.]])\n"
          ]
        }
      ],
      "source": [
        "import torch\n",
        "import torch.nn as nn\n",
        "import torch.optim as optim\n",
        "\n",
        "# XOR data\n",
        "X = torch.tensor([[0.,0.], [0.,1.], [1.,0.], [1.,1.]])\n",
        "y = torch.tensor([[0.], [1.], [1.], [0.]])\n",
        "\n",
        "# Better network with more capacity\n",
        "class XORNet(nn.Module):\n",
        "    def __init__(self):\n",
        "        super().__init__()\n",
        "        self.model = nn.Sequential(\n",
        "            nn.Linear(2, 8),\n",
        "            nn.Tanh(),              # More expressive than Sigmoid\n",
        "            nn.Linear(8, 1),\n",
        "            nn.Sigmoid()\n",
        "        )\n",
        "\n",
        "    def forward(self, x):\n",
        "        return self.model(x)\n",
        "\n",
        "net = XORNet()\n",
        "\n",
        "# Binary cross entropy is better for binary classification\n",
        "criterion = nn.BCELoss()\n",
        "optimizer = optim.Adam(net.parameters(), lr=0.01)\n",
        "\n",
        "# Training\n",
        "for epoch in range(5000):\n",
        "    pred = net(X)\n",
        "    loss = criterion(pred, y)\n",
        "\n",
        "    optimizer.zero_grad()\n",
        "    loss.backward()\n",
        "    optimizer.step()\n",
        "\n",
        "    if epoch % 500 == 0:\n",
        "        print(f\"Epoch {epoch} | Loss: {loss.item():.4f}\")\n",
        "\n",
        "# Predictions\n",
        "print(\"\\nPredictions:\")\n",
        "print(torch.round(net(X).detach()))\n"
      ]
    }
  ]
}