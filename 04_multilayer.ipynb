{
  "nbformat": 4,
  "nbformat_minor": 0,
  "metadata": {
    "colab": {
      "provenance": [],
      "authorship_tag": "ABX9TyMKGdd6bIzvahyXVgj5IyFF",
      "include_colab_link": true
    },
    "kernelspec": {
      "name": "python3",
      "display_name": "Python 3"
    },
    "language_info": {
      "name": "python"
    }
  },
  "cells": [
    {
      "cell_type": "markdown",
      "metadata": {
        "id": "view-in-github",
        "colab_type": "text"
      },
      "source": [
        "<a href=\"https://colab.research.google.com/github/nahiim/colab/blob/main/04_multilayer.ipynb\" target=\"_parent\"><img src=\"https://colab.research.google.com/assets/colab-badge.svg\" alt=\"Open In Colab\"/></a>"
      ]
    },
    {
      "cell_type": "code",
      "execution_count": 6,
      "metadata": {
        "colab": {
          "base_uri": "https://localhost:8080/"
        },
        "id": "GRtU-xoI28H0",
        "outputId": "287ec072-527a-45ad-af1f-aaf250ec5605"
      },
      "outputs": [
        {
          "output_type": "stream",
          "name": "stdout",
          "text": [
            "Epoch 0: Loss = 0.2558\n",
            "Epoch 1000: Loss = 0.2455\n",
            "Epoch 2000: Loss = 0.1532\n",
            "Epoch 3000: Loss = 0.1336\n",
            "Epoch 4000: Loss = 0.1298\n",
            "Epoch 5000: Loss = 0.1282\n",
            "Epoch 6000: Loss = 0.1274\n",
            "Epoch 7000: Loss = 0.1269\n",
            "Epoch 8000: Loss = 0.1266\n",
            "Epoch 9000: Loss = 0.1264\n",
            "\n",
            "Predictions after training:\n",
            "[[0.03 ]\n",
            " [0.498]\n",
            " [0.971]\n",
            " [0.501]]\n"
          ]
        }
      ],
      "source": [
        "import numpy as np\n",
        "\n",
        "# Activation functions\n",
        "def sigmoid(x):\n",
        "    return 1 / (1 + np.exp(-x))\n",
        "\n",
        "def sigmoid_derivative(x):\n",
        "    s = sigmoid(x)\n",
        "    return s * (1 - s)\n",
        "\n",
        "# XOR data\n",
        "X = np.array([[0,0],[0,1],[1,0],[1,1]])\n",
        "y = np.array([[0],[1],[1],[0]])\n",
        "\n",
        "# Init weights and biases\n",
        "np.random.seed(42)\n",
        "W1 = np.random.randn(2, 2)   # input → hidden\n",
        "b1 = np.zeros((1, 2))\n",
        "W2 = np.random.randn(2, 1)   # hidden → output\n",
        "b2 = np.zeros((1, 1))\n",
        "\n",
        "# Training parameters\n",
        "learning_rate = 0.1\n",
        "epochs = 10_000\n",
        "\n",
        "# Training loop\n",
        "for epoch in range(epochs):\n",
        "    # Forward pass\n",
        "    z1 = X @ W1 + b1\n",
        "    a1 = sigmoid(z1)\n",
        "\n",
        "    z2 = a1 @ W2 + b2\n",
        "    a2 = sigmoid(z2)\n",
        "\n",
        "    # Compute loss (MSE)\n",
        "    loss = np.mean((y - a2) ** 2)\n",
        "\n",
        "    # Backpropagation\n",
        "    d_a2 = 2 * (a2 - y)\n",
        "    d_z2 = d_a2 * sigmoid_derivative(z2)\n",
        "    d_W2 = a1.T @ d_z2\n",
        "    d_b2 = np.sum(d_z2, axis=0, keepdims=True)\n",
        "\n",
        "    d_a1 = d_z2 @ W2.T\n",
        "    d_z1 = d_a1 * sigmoid_derivative(z1)\n",
        "    d_W1 = X.T @ d_z1\n",
        "    d_b1 = np.sum(d_z1, axis=0, keepdims=True)\n",
        "\n",
        "    # Update weights and biases\n",
        "    W2 -= learning_rate * d_W2\n",
        "    b2 -= learning_rate * d_b2\n",
        "    W1 -= learning_rate * d_W1\n",
        "    b1 -= learning_rate * d_b1\n",
        "\n",
        "    # Print loss every 1000 epochs\n",
        "    if epoch % 1000 == 0:\n",
        "        print(f\"Epoch {epoch}: Loss = {loss:.4f}\")\n",
        "\n",
        "# Final predictions\n",
        "print(\"\\nPredictions after training:\")\n",
        "preds = sigmoid(sigmoid(X @ W1 + b1) @ W2 + b2)\n",
        "print(np.round(preds, 3))\n"
      ]
    }
  ]
}