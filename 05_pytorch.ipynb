{
  "nbformat": 4,
  "nbformat_minor": 0,
  "metadata": {
    "colab": {
      "provenance": [],
      "authorship_tag": "ABX9TyO7jtPsxYudayUSHfDXBY9q",
      "include_colab_link": true
    },
    "kernelspec": {
      "name": "python3",
      "display_name": "Python 3"
    },
    "language_info": {
      "name": "python"
    }
  },
  "cells": [
    {
      "cell_type": "markdown",
      "metadata": {
        "id": "view-in-github",
        "colab_type": "text"
      },
      "source": [
        "<a href=\"https://colab.research.google.com/github/nahiim/colab/blob/main/05_pytorch.ipynb\" target=\"_parent\"><img src=\"https://colab.research.google.com/assets/colab-badge.svg\" alt=\"Open In Colab\"/></a>"
      ]
    },
    {
      "cell_type": "code",
      "execution_count": 1,
      "metadata": {
        "colab": {
          "base_uri": "https://localhost:8080/"
        },
        "id": "GRtU-xoI28H0",
        "outputId": "e52ffce7-8ab3-4994-bcd6-0f9bf217a4e3"
      },
      "outputs": [
        {
          "output_type": "stream",
          "name": "stdout",
          "text": [
            "Epoch 0 | Loss: 0.2529\n",
            "Epoch 500 | Loss: 0.2503\n",
            "Epoch 1000 | Loss: 0.2502\n",
            "Epoch 1500 | Loss: 0.2501\n",
            "Epoch 2000 | Loss: 0.2500\n",
            "Epoch 2500 | Loss: 0.2499\n",
            "Epoch 3000 | Loss: 0.2498\n",
            "Epoch 3500 | Loss: 0.2497\n",
            "Epoch 4000 | Loss: 0.2496\n",
            "Epoch 4500 | Loss: 0.2494\n",
            "\n",
            "Predictions:\n",
            "tensor([[0.],\n",
            "        [1.],\n",
            "        [0.],\n",
            "        [0.]])\n"
          ]
        }
      ],
      "source": [
        "import torch\n",
        "import torch.nn as nn\n",
        "import torch.optim as optim\n",
        "\n",
        "# Data (XOR)\n",
        "X = torch.tensor([[0.,0.], [0.,1.], [1.,0.], [1.,1.]])\n",
        "y = torch.tensor([[0.], [1.], [1.], [0.]])\n",
        "\n",
        "# Neural Network\n",
        "class XORNet(nn.Module):\n",
        "    def __init__(self):\n",
        "        super().__init__()\n",
        "        self.model = nn.Sequential(\n",
        "            nn.Linear(2, 4),  # input → hidden\n",
        "            nn.Sigmoid(),\n",
        "            nn.Linear(4, 1),  # hidden → output\n",
        "            nn.Sigmoid()\n",
        "        )\n",
        "\n",
        "    def forward(self, x):\n",
        "        return self.model(x)\n",
        "\n",
        "net = XORNet()\n",
        "\n",
        "# Loss & Optimizer\n",
        "criterion = nn.MSELoss()\n",
        "optimizer = optim.SGD(net.parameters(), lr=0.1)\n",
        "\n",
        "# Training loop\n",
        "for epoch in range(5000):\n",
        "    pred = net(X)\n",
        "    loss = criterion(pred, y)\n",
        "\n",
        "    optimizer.zero_grad()\n",
        "    loss.backward()\n",
        "    optimizer.step()\n",
        "\n",
        "    if epoch % 500 == 0:\n",
        "        print(f\"Epoch {epoch} | Loss: {loss.item():.4f}\")\n",
        "\n",
        "# Final predictions\n",
        "print(\"\\nPredictions:\")\n",
        "print(torch.round(net(X).detach()))\n"
      ]
    }
  ]
}